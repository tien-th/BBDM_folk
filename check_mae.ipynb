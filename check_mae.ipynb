{
 "cells": [
  {
   "cell_type": "code",
   "execution_count": 1,
   "metadata": {},
   "outputs": [
    {
     "name": "stdout",
     "output_type": "stream",
     "text": [
      "Mean MAE: 295.19282183243786\n"
     ]
    }
   ],
   "source": [
    "import os\n",
    "import numpy as np\n",
    "from skimage.metrics import structural_similarity as ssim\n",
    "from skimage.metrics import peak_signal_noise_ratio as psnr\n",
    "\n",
    "# Define the function to compute MAE\n",
    "def compute_mae(image1, image2):\n",
    "    return np.abs(image1 - image2).mean()\n",
    "\n",
    "# Paths to the folders\n",
    "gt_folder = \"/home/PET-CT/splited_data_15k/train/B\"\n",
    "condition_folder = \"/home/PET-CT/splited_data_15k/train/A\"\n",
    "# pre_folder = \"results/108_CT2PET_UncerBBDM3c/LBBDM-f4/sample_to_eval/200\"\n",
    "\n",
    "dataset_name = 'UncerBBDM_1Unet_confloss_15k_training_samples_top_model'\n",
    "\n",
    "pre_folder = \"/home/PET-CT/thaind/BBDM_folk/results/\" + dataset_name + \"/LBBDM-f4/sample_to_eval/200\"\n",
    "\n",
    "mae_scores = []\n",
    "high_mae, high_mae_gts, high_mae_pds, high_mae_conditions = [], [], [], []\n",
    "\n",
    "# Iterate through the files in the ground truth folder\n",
    "for filename in os.listdir(gt_folder):\n",
    "    # Make sure the file is a numpy array\n",
    "    if filename.endswith(\".npy\"):\n",
    "        # Construct the paths for the corresponding ground truth and predicted files\n",
    "        try:\n",
    "            gt_path = os.path.join(gt_folder, filename)\n",
    "            pre_path = os.path.join(pre_folder, filename)\n",
    "        \n",
    "            # Load the images as numpy arrays\n",
    "            gt_img = np.load(gt_path, allow_pickle=True)\n",
    "            pre_img = np.load(pre_path, allow_pickle=True)\n",
    "        except:\n",
    "            continue   \n",
    "        # Preprocess the predicted image\n",
    "        pre_img1 = pre_img.mean(axis=-1) / 32767.0\n",
    "        \n",
    "        # Normalize the ground truth image\n",
    "        gt_img1 = gt_img / 32767.0\n",
    "\n",
    "        mae = compute_mae(pre_img1, gt_img1)\n",
    "        mae_scores.append(mae * 32767)\n",
    "\n",
    "        if mae * 32767 > 1000  : \n",
    "            high_mae_gts.append(gt_img) \n",
    "            high_mae_pds.append(pre_img)\n",
    "            high_mae_conditions.append(np.load(os.path.join(condition_folder, filename), allow_pickle=True))\n",
    "            high_mae.append(mae * 32767)\n",
    "\n",
    "# Calculate the mean scores over all pairs\n",
    "# mean_ssim = np.mean(ssim_scores)\n",
    "# mean_psnr = np.mean(psnr_scores)\n",
    "mean_mae = np.mean(mae_scores)\n",
    "\n",
    "# Print the mean metrics\n",
    "# print(\"Mean SSIM: {}\".format(mean_ssim))\n",
    "# print(\"Mean PSNR: {}\".format(mean_psnr))\n",
    "print(\"Mean MAE: {}\".format(mean_mae))"
   ]
  },
  {
   "cell_type": "code",
   "execution_count": 4,
   "metadata": {},
   "outputs": [],
   "source": [
    "import os\n",
    "def create_fol(dir_path): \n",
    "    if not os.path.exists(dir_path):\n",
    "        os.makedirs(dir_path)"
   ]
  },
  {
   "cell_type": "code",
   "execution_count": 5,
   "metadata": {},
   "outputs": [
    {
     "name": "stdout",
     "output_type": "stream",
     "text": [
      "Mean MAE: 295.19282183243786\n"
     ]
    }
   ],
   "source": [
    "import shutil \n",
    "import os\n",
    "import numpy as np\n",
    "from skimage.metrics import structural_similarity as ssim\n",
    "from skimage.metrics import peak_signal_noise_ratio as psnr\n",
    "\n",
    "# Define the function to compute MAE\n",
    "def compute_mae(image1, image2):\n",
    "    return np.abs(image1 - image2).mean()\n",
    "\n",
    "# Paths to the folders\n",
    "gt_folder = \"/home/PET-CT/splited_data_15k/train/B\"\n",
    "condition_folder = \"/home/PET-CT/splited_data_15k/train/A\"\n",
    "# pre_folder = \"results/108_CT2PET_UncerBBDM3c/LBBDM-f4/sample_to_eval/200\"\n",
    "\n",
    "dataset_name = 'UncerBBDM_1Unet_confloss_15k_training_samples_top_model'\n",
    "\n",
    "pre_folder = \"/home/PET-CT/thaind/BBDM_folk/results/\" + dataset_name + \"/LBBDM-f4/sample_to_eval/200\"\n",
    "\n",
    "mae_scores = []\n",
    "high_mae, high_mae_gts, high_mae_pds, high_mae_conditions = [], [], [], []\n",
    "\n",
    "\n",
    "bad_folder = './baddataset/test'\n",
    "create_fol(bad_folder + '/A') \n",
    "create_fol(bad_folder + '/B')\n",
    "\n",
    "\n",
    "# Iterate through the files in the ground truth folder\n",
    "for filename in os.listdir(gt_folder):\n",
    "    # Make sure the file is a numpy array\n",
    "    if filename.endswith(\".npy\"):\n",
    "        # Construct the paths for the corresponding ground truth and predicted files\n",
    "        try:\n",
    "            gt_path = os.path.join(gt_folder, filename)\n",
    "            pre_path = os.path.join(pre_folder, filename)\n",
    "        \n",
    "            # Load the images as numpy arrays\n",
    "            gt_img = np.load(gt_path, allow_pickle=True)\n",
    "            pre_img = np.load(pre_path, allow_pickle=True)\n",
    "        except:\n",
    "            continue   \n",
    "        # Preprocess the predicted image\n",
    "        pre_img1 = pre_img.mean(axis=-1) / 32767.0\n",
    "        \n",
    "        # Normalize the ground truth image\n",
    "        gt_img1 = gt_img / 32767.0\n",
    "\n",
    "        mae = compute_mae(pre_img1, gt_img1)\n",
    "        mae_scores.append(mae * 32767)\n",
    "\n",
    "        if mae * 32767 > 1000  : \n",
    "            shutil.copy(os.path.join(gt_folder, filename), os.path.join(bad_folder + '/B', filename) )\n",
    "            shutil.copy(os.path.join(condition_folder, filename), os.path.join(bad_folder + '/A', filename) )\n",
    "            \n",
    "            # high_mae_gts.append(gt_img) \n",
    "            # high_mae_pds.append(pre_img)\n",
    "\n",
    "            # high_mae_conditions.append(np.load(os.path.join(condition_folder, filename), allow_pickle=True))\n",
    "            # high_mae.append(mae * 32767)\n",
    "\n",
    "# Calculate the mean scores over all pairs\n",
    "# mean_ssim = np.mean(ssim_scores)\n",
    "# mean_psnr = np.mean(psnr_scores)\n",
    "mean_mae = np.mean(mae_scores)\n",
    "\n",
    "# Print the mean metrics\n",
    "# print(\"Mean SSIM: {}\".format(mean_ssim))\n",
    "# print(\"Mean PSNR: {}\".format(mean_psnr))\n",
    "print(\"Mean MAE: {}\".format(mean_mae))"
   ]
  },
  {
   "cell_type": "code",
   "execution_count": 8,
   "metadata": {},
   "outputs": [],
   "source": [
    "create_fol('./baddataset/train/A')\n",
    "create_fol('./baddataset/train/B')\n",
    "create_fol('./baddataset/val/A')\n",
    "create_fol('./baddataset/val/B')"
   ]
  },
  {
   "cell_type": "code",
   "execution_count": 4,
   "metadata": {},
   "outputs": [
    {
     "data": {
      "text/plain": [
       "<matplotlib.image.AxesImage at 0x7fe4cfd14730>"
      ]
     },
     "execution_count": 4,
     "metadata": {},
     "output_type": "execute_result"
    },
    {
     "data": {
      "image/png": "[encoded data removed]",
      "text/plain": [
       "<Figure size 640x480 with 1 Axes>"
      ]
     },
     "metadata": {},
     "output_type": "display_data"
    }
   ],
   "source": [
    "import matplotlib.pyplot as plt\n",
    "import numpy as np\n",
    "conf_path  = '/home/PET-CT/thaind/BBDM_folk/results/1130_UncerBBDM_1Unet_confloss_15k_alpha_2/LBBDM-f4/sample_to_eval/confidence/13507.npy'\n",
    "np_conf = np.load(conf_path, allow_pickle=True)\n",
    "\n",
    "plt.imshow(np_conf)\n"
   ]
  },
  {
   "cell_type": "code",
   "execution_count": 5,
   "metadata": {},
   "outputs": [
    {
     "data": {
      "text/plain": [
       "array([[[0.9999944 , 0.9999443 , 0.9998375 ],\n",
       "        [0.9999988 , 0.9999969 , 0.99999845],\n",
       "        [0.99999857, 0.99999785, 0.99999917],\n",
       "        ...,\n",
       "        [0.99999905, 0.9999956 , 0.99999917],\n",
       "        [0.9999994 , 0.9999933 , 0.99999905],\n",
       "        [0.99986136, 0.9999856 , 0.999938  ]],\n",
       "\n",
       "       [[0.99999857, 0.9999629 , 0.9999976 ],\n",
       "        [0.9999995 , 0.99999845, 1.        ],\n",
       "        [0.99999905, 0.99999905, 1.        ],\n",
       "        ...,\n",
       "        [0.99999964, 0.99999833, 1.        ],\n",
       "        [0.9999999 , 0.9999982 , 1.        ],\n",
       "        [0.9999845 , 0.9999975 , 0.9999994 ]],\n",
       "\n",
       "       [[0.99999845, 0.9999721 , 0.99999774],\n",
       "        [0.99999905, 0.9999987 , 1.        ],\n",
       "        [0.99999726, 0.99999845, 1.        ],\n",
       "        ...,\n",
       "        [0.9999987 , 0.999997  , 1.        ],\n",
       "        [0.99999976, 0.9999956 , 1.        ],\n",
       "        [0.99997985, 0.99999464, 0.9999993 ]],\n",
       "\n",
       "       ...,\n",
       "\n",
       "       [[0.9999993 , 0.9999794 , 0.99999833],\n",
       "        [0.99999905, 0.99999833, 1.        ],\n",
       "        [0.9999951 , 0.9999981 , 1.        ],\n",
       "        ...,\n",
       "        [0.9999981 , 0.9999976 , 1.        ],\n",
       "        [0.99999976, 0.9999956 , 1.        ],\n",
       "        [0.9999825 , 0.9999963 , 0.9999993 ]],\n",
       "\n",
       "       [[0.99999964, 0.99998415, 0.99999785],\n",
       "        [0.99999964, 0.9999987 , 1.        ],\n",
       "        [0.99999857, 0.9999982 , 1.        ],\n",
       "        ...,\n",
       "        [0.99999917, 0.99999785, 1.        ],\n",
       "        [0.9999999 , 0.99999607, 1.        ],\n",
       "        [0.99998677, 0.9999962 , 0.99999905]],\n",
       "\n",
       "       [[0.9999807 , 0.99978644, 0.99987805],\n",
       "        [0.9999901 , 0.9999745 , 0.99999845],\n",
       "        [0.9999728 , 0.99997044, 0.99999833],\n",
       "        ...,\n",
       "        [0.99997747, 0.9999664 , 0.99999774],\n",
       "        [0.999992  , 0.9999448 , 0.99999785],\n",
       "        [0.99973196, 0.9998472 , 0.99992204]]], dtype=float32)"
      ]
     },
     "execution_count": 5,
     "metadata": {},
     "output_type": "execute_result"
    }
   ],
   "source": [
    "np_conf"
   ]
  },
  {
   "cell_type": "code",
   "execution_count": 17,
   "metadata": {},
   "outputs": [],
   "source": [
    "import torch\n",
    "import torch.nn as nn\n",
    "import torch.nn.functional as F\n",
    "from torch.autograd import Variable\n",
    "\n",
    "class FocalLoss(nn.Module):\n",
    "    def __init__(self, gamma=0, alpha=None, size_average=True):\n",
    "        super(FocalLoss, self).__init__()\n",
    "        self.gamma = gamma\n",
    "        self.alpha = alpha\n",
    "        if isinstance(alpha,(float,int,long)): self.alpha = torch.Tensor([alpha,1-alpha])\n",
    "        if isinstance(alpha,list): self.alpha = torch.Tensor(alpha)\n",
    "        self.size_average = size_average\n",
    "\n",
    "    def forward(self, input, target):\n",
    "        if input.dim()>2:\n",
    "            input = input.view(input.size(0),input.size(1),-1)  # N,C,H,W => N,C,H*W\n",
    "            input = input.transpose(1,2)    # N,C,H*W => N,H*W,C\n",
    "            input = input.contiguous().view(-1,input.size(2))   # N,H*W,C => N*H*W,C\n",
    "        target = target.view(-1,1)\n",
    "\n",
    "        logpt = F.log_softmax(input)\n",
    "        logpt = logpt.gather(1,target)\n",
    "        logpt = logpt.view(-1)\n",
    "        pt = Variable(logpt.data.exp())\n",
    "\n",
    "        if self.alpha is not None:\n",
    "            if self.alpha.type()!=input.data.type():\n",
    "                self.alpha = self.alpha.type_as(input.data)\n",
    "            at = self.alpha.gather(0,target.data.view(-1))\n",
    "            logpt = logpt * Variable(at)\n",
    "\n",
    "        loss = -1 * (1-pt)**self.gamma * logpt\n",
    "        if self.size_average: return loss.mean()\n",
    "        else: return loss.sum()"
   ]
  },
  {
   "cell_type": "code",
   "execution_count": null,
   "metadata": {},
   "outputs": [],
   "source": [
    "    "
   ]
  }
 ],
 "metadata": {
  "kernelspec": {
   "display_name": "BBDM",
   "language": "python",
   "name": "python3"
  },
  "language_info": {
   "codemirror_mode": {
    "name": "ipython",
    "version": 3
   },
   "file_extension": ".py",
   "mimetype": "text/x-python",
   "name": "python",
   "nbconvert_exporter": "python",
   "pygments_lexer": "ipython3",
   "version": "3.9.16"
  }
 },
 "nbformat": 4,
 "nbformat_minor": 2
}
