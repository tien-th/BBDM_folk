{
 "cells": [
  {
   "cell_type": "code",
   "execution_count": 1,
   "metadata": {},
   "outputs": [
    {
     "name": "stderr",
     "output_type": "stream",
     "text": [
      "/root/anaconda3/envs/BBDM/lib/python3.9/site-packages/tqdm/auto.py:21: TqdmWarning: IProgress not found. Please update jupyter and ipywidgets. See https://ipywidgets.readthedocs.io/en/stable/user_install.html\n",
      "  from .autonotebook import tqdm as notebook_tqdm\n"
     ]
    },
    {
     "name": "stdout",
     "output_type": "stream",
     "text": [
      "Setting up [LPIPS] perceptual loss: trunk [vgg], v[0.1], spatial [off]\n"
     ]
    },
    {
     "name": "stderr",
     "output_type": "stream",
     "text": [
      "/root/anaconda3/envs/BBDM/lib/python3.9/site-packages/torchvision/models/_utils.py:208: UserWarning: The parameter 'pretrained' is deprecated since 0.13 and will be removed in 0.15, please use 'weights' instead.\n",
      "  warnings.warn(\n",
      "/root/anaconda3/envs/BBDM/lib/python3.9/site-packages/torchvision/models/_utils.py:223: UserWarning: Arguments other than a weight enum or `None` for 'weights' are deprecated since 0.13 and will be removed in 0.15. The current behavior is equivalent to passing `weights=VGG16_Weights.IMAGENET1K_V1`. You can also use `weights=VGG16_Weights.DEFAULT` to get the most up-to-date weights.\n",
      "  warnings.warn(msg)\n"
     ]
    },
    {
     "name": "stdout",
     "output_type": "stream",
     "text": [
      "Loading model from: /root/anaconda3/envs/BBDM/lib/python3.9/site-packages/lpips/weights/v0.1/vgg.pth\n",
      "Mean SSIM: 0.9376162043078247\n",
      "Mean PSNR: 29.078046649688154\n",
      "Mean MAE: 337.04575542193925\n",
      "Mean MAPE: 606.3704735559402\n",
      "Mean LPIPS: 0.09897787868976593\n"
     ]
    }
   ],
   "source": [
    "import os\n",
    "import numpy as np\n",
    "from skimage.metrics import structural_similarity as ssim\n",
    "from skimage.metrics import peak_signal_noise_ratio as psnr\n",
    "import lpips\n",
    "import torch\n",
    "\n",
    "# Define the function to compute MAE\n",
    "def compute_mae(image1, image2):\n",
    "    return np.abs(image1 - image2).mean()\n",
    "\n",
    "def compute_mape(image1, image2):\n",
    "    return np.abs((image1 - image2) / (image1 + 1e-6)).mean() * 100\n",
    "\n",
    "loss_fn_vgg = lpips.LPIPS(net='vgg')\n",
    "\n",
    "# Paths to the folders\n",
    "gt_folder = \"/home/PET-CT/splited_data_15k/test/B\"\n",
    "# pre_folder = \"results/108_CT2PET_UncerBBDM3c/LBBDM-f4/sample_to_eval/200\"\n",
    "pre_folder = \"/home/PET-CT/thaind/medical-image-translation/UncerGuidedI2I/samples/MedGAN_2/predicted\"\n",
    "# Lists to store the computed metrics for each pair\n",
    "ssim_scores = []\n",
    "psnr_scores = []\n",
    "mae_scores = []\n",
    "mape_scores = []\n",
    "lpips_scores = []\n",
    "\n",
    "# Iterate through the files in the ground truth folder\n",
    "for filename in os.listdir(gt_folder):\n",
    "    # Make sure the file is a numpy array\n",
    "    if filename.endswith(\".npy\"):\n",
    "        # Construct the paths for the corresponding ground truth and predicted files\n",
    "        try:\n",
    "            gt_path = os.path.join(gt_folder, filename)\n",
    "            pre_path = os.path.join(pre_folder, filename)\n",
    "        \n",
    "            # Load the images as numpy arrays\n",
    "            gt_img = np.load(gt_path, allow_pickle=True)\n",
    "            pre_img = np.load(pre_path, allow_pickle=True)\n",
    "        except:\n",
    "            continue   \n",
    "        \n",
    "        # Preprocess the predicted image\n",
    "        pre_img = pre_img.mean(axis=-1) / 32767.0\n",
    "        \n",
    "        # Normalize the ground truth image\n",
    "        gt_img = gt_img / 32767.0\n",
    "        \n",
    "        pre_img = pre_img.astype(np.float32)\n",
    "        gt_img = gt_img.astype(np.float32)\n",
    "        \n",
    "        # Calculate the SSIM, PSNR, and MAE for this pair\n",
    "        ssim_score = ssim(pre_img, gt_img, data_range=1)\n",
    "        psnr_score = psnr(pre_img, gt_img, data_range=1)\n",
    "        mae = compute_mae(pre_img, gt_img)\n",
    "        mape = compute_mape(1-gt_img, 1-pre_img)\n",
    "\n",
    "        pre_img = torch.from_numpy(pre_img)\n",
    "        pre_img = (pre_img - 0.5) * 2\n",
    "        pre_img = pre_img.unsqueeze(0)\n",
    "        pre_img = pre_img.expand(3, -1, -1)\n",
    "        pre_img = pre_img.unsqueeze(0)\n",
    "        \n",
    "        gt_img = torch.from_numpy(gt_img)\n",
    "        gt_img = (gt_img - 0.5) * 2\n",
    "        gt_img = gt_img.unsqueeze(0)\n",
    "        gt_img = gt_img.expand(3, -1, -1)\n",
    "        gt_img = gt_img.unsqueeze(0)\n",
    "\n",
    "        lpips_score = loss_fn_vgg(pre_img, gt_img) \n",
    "        lpips_score = lpips_score.detach().numpy()[0, 0, 0, 0]\n",
    "        \n",
    "        # Append the scores to the corresponding lists\n",
    "        ssim_scores.append(ssim_score)\n",
    "        psnr_scores.append(psnr_score)\n",
    "        mae_scores.append(mae * 32767)\n",
    "        mape_scores.append(mape)\n",
    "        lpips_scores.append(lpips_score)\n",
    "\n",
    "# Calculate the mean scores over all pairs\n",
    "mean_ssim = np.mean(ssim_scores)\n",
    "mean_psnr = np.mean(psnr_scores)\n",
    "mean_mae = np.mean(mae_scores)\n",
    "mean_mape = np.mean(mape_scores)\n",
    "mean_lpips = np.mean(lpips_scores)\n",
    "\n",
    "# Print the mean metrics\n",
    "print(\"Mean SSIM: {}\".format(mean_ssim))\n",
    "print(\"Mean PSNR: {}\".format(mean_psnr))\n",
    "print(\"Mean MAE: {}\".format(mean_mae))\n",
    "print(\"Mean MAPE: {}\".format(mean_mape))\n",
    "print(\"Mean LPIPS: {}\".format(mean_lpips))"
   ]
  }
 ],
 "metadata": {
  "kernelspec": {
   "display_name": "BBDM",
   "language": "python",
   "name": "python3"
  },
  "language_info": {
   "codemirror_mode": {
    "name": "ipython",
    "version": 3
   },
   "file_extension": ".py",
   "mimetype": "text/x-python",
   "name": "python",
   "nbconvert_exporter": "python",
   "pygments_lexer": "ipython3",
   "version": "3.9.16"
  },
  "orig_nbformat": 4
 },
 "nbformat": 4,
 "nbformat_minor": 2
}
