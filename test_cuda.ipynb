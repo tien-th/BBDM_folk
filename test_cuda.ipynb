{
 "cells": [
  {
   "cell_type": "code",
   "execution_count": 4,
   "metadata": {},
   "outputs": [
    {
     "name": "stdout",
     "output_type": "stream",
     "text": [
      "Mean SSIM: 0.926541003267477\n",
      "Mean PSNR: 28.18166958157013\n",
      "Mean MAE: 330.3010311794733\n",
      "Mean MAPE: 693.2511869900327\n"
     ]
    }
   ],
   "source": [
    "import os\n",
    "import numpy as np\n",
    "from skimage.metrics import structural_similarity as ssim\n",
    "from skimage.metrics import peak_signal_noise_ratio as psnr\n",
    "\n",
    "# Define the function to compute MAE\n",
    "def compute_mae(image1, image2):\n",
    "    return np.abs(image1 - image2).mean()\n",
    "\n",
    "def compute_mape(image1, image2):\n",
    "    return np.abs((image1 - image2) / (image1 + 1e-6)).mean() * 100\n",
    "\n",
    "# Paths to the folders\n",
    "gt_folder = \"/home/PET-CT/splited_data_15k/test/B\"\n",
    "# pre_folder = \"results/108_CT2PET_UncerBBDM3c/LBBDM-f4/sample_to_eval/200\"\n",
    "pre_folder = \"/home/PET-CT/thaind/BBDM_folk/results/1219_segmented_conditional_LBBDM_alpha_2/LBBDM-f4/sample_to_eval/200\"\n",
    "# Lists to store the computed metrics for each pair\n",
    "ssim_scores = []\n",
    "psnr_scores = []\n",
    "mae_scores = []\n",
    "mape_scores = []\n",
    "\n",
    "# Iterate through the files in the ground truth folder\n",
    "for filename in os.listdir(gt_folder):\n",
    "    # Make sure the file is a numpy array\n",
    "    if filename.endswith(\".npy\"):\n",
    "        # Construct the paths for the corresponding ground truth and predicted files\n",
    "        try:\n",
    "            gt_path = os.path.join(gt_folder, filename)\n",
    "            pre_path = os.path.join(pre_folder, filename)\n",
    "        \n",
    "            # Load the images as numpy arrays\n",
    "            gt_img = np.load(gt_path, allow_pickle=True)\n",
    "            pre_img = np.load(pre_path, allow_pickle=True)\n",
    "        except:\n",
    "            continue   \n",
    "        # Preprocess the predicted image\n",
    "        pre_img = pre_img.mean(axis=-1) / 32767.0\n",
    "        \n",
    "        # Normalize the ground truth image\n",
    "        gt_img = gt_img / 32767.0\n",
    "        \n",
    "        # Calculate the SSIM, PSNR, and MAE for this pair\n",
    "        ssim_score = ssim(pre_img, gt_img, data_range=1)\n",
    "        psnr_score = psnr(pre_img, gt_img, data_range=1)\n",
    "        mae = compute_mae(pre_img, gt_img)\n",
    "        mape = compute_mape(1-gt_img, 1-pre_img)\n",
    "        \n",
    "        \n",
    "        # Append the scores to the corresponding lists\n",
    "        ssim_scores.append(ssim_score)\n",
    "        psnr_scores.append(psnr_score)\n",
    "        mae_scores.append(mae * 32767)\n",
    "        mape_scores.append(mape)\n",
    "\n",
    "# Calculate the mean scores over all pairs\n",
    "mean_ssim = np.mean(ssim_scores)\n",
    "mean_psnr = np.mean(psnr_scores)\n",
    "mean_mae = np.mean(mae_scores)\n",
    "mean_mape = np.mean(mape_scores)\n",
    "\n",
    "# Print the mean metrics\n",
    "print(\"Mean SSIM: {}\".format(mean_ssim))\n",
    "print(\"Mean PSNR: {}\".format(mean_psnr))\n",
    "print(\"Mean MAE: {}\".format(mean_mae))\n",
    "print(\"Mean MAPE: {}\".format(mean_mape))"
   ]
  }
 ],
 "metadata": {
  "kernelspec": {
   "display_name": "BBDM",
   "language": "python",
   "name": "python3"
  },
  "language_info": {
   "codemirror_mode": {
    "name": "ipython",
    "version": 3
   },
   "file_extension": ".py",
   "mimetype": "text/x-python",
   "name": "python",
   "nbconvert_exporter": "python",
   "pygments_lexer": "ipython3",
   "version": "3.9.16"
  },
  "orig_nbformat": 4
 },
 "nbformat": 4,
 "nbformat_minor": 2
}
