{
 "cells": [
  {
   "cell_type": "code",
   "execution_count": 15,
   "metadata": {},
   "outputs": [
    {
     "name": "stdout",
     "output_type": "stream",
     "text": [
      "Mean MAE: 701.488388136485\n"
     ]
    }
   ],
   "source": [
    "import os\n",
    "import numpy as np\n",
    "from skimage.metrics import structural_similarity as ssim\n",
    "from skimage.metrics import peak_signal_noise_ratio as psnr\n",
    "\n",
    "# Define the function to compute MAE\n",
    "def compute_mae(image1, image2):\n",
    "    return np.abs(image1 - image2).mean()\n",
    "\n",
    "def compute_mape(image1, image2):\n",
    "    return np.abs((image1 - image2) / (image1 + 1e-6)).mean() * 100\n",
    "\n",
    "# Paths to the folders\n",
    "gt_folder = \"/home/PET-CT/splited_data_15k/test/B\"\n",
    "condition_folder = \"/home/PET-CT/splited_data_15k/test/A\"\n",
    "# pre_folder = \"results/108_CT2PET_UncerBBDM3c/LBBDM-f4/sample_to_eval/200\"\n",
    "\n",
    "dataset_name = '1218_segmented_conditional_LBBDM'\n",
    "\n",
    "pre_folder = \"/home/PET-CT/thaind/BBDM_folk/results/\" + dataset_name + \"/LBBDM-f4/sample_to_eval/200\"\n",
    "confidence_folder = \"/home/PET-CT/thaind/BBDM_folk/results/\" + dataset_name + \"/LBBDM-f4/sample_to_eval/additional_condition\"\n",
    "# confidence_folder2 = \"/home/PET-CT/thaind/BBDM_folk/results/\" + dataset_name + \"/LBBDM-f4/sample_to_eval/confidence_2\"\n",
    "\n",
    "\n",
    "# mode = \"low_mape\"\n",
    "mode = \"high_mape\"\n",
    "\n",
    "confidences, confidences2 = [], []\n",
    "mae_scores = []\n",
    "high_mae, high_mae_gts, high_mae_pds, high_mae_conditions = [], [], [], []\n",
    "\n",
    "# Iterate through the files in the ground truth folder\n",
    "for filename in os.listdir(gt_folder):\n",
    "    # Make sure the file is a numpy array\n",
    "    if filename.endswith(\".npy\"):\n",
    "        # Construct the paths for the corresponding ground truth and predicted files\n",
    "        try:\n",
    "            gt_path = os.path.join(gt_folder, filename)\n",
    "            pre_path = os.path.join(pre_folder, filename)\n",
    "            confidence_path = os.path.join(confidence_folder, filename)\n",
    "            # confidence_path2 = os.path.join(confidence_folder2, filename)\n",
    "\n",
    "            # Load the images as numpy arrays\n",
    "            gt_img = np.load(gt_path, allow_pickle=True)\n",
    "            pre_img = np.load(pre_path, allow_pickle=True)\n",
    "        except:\n",
    "            continue   \n",
    "        # Preprocess the predicted image\n",
    "        pre_img1 = pre_img.mean(axis=-1) / 32767.0\n",
    "        \n",
    "        # Normalize the ground truth image\n",
    "        gt_img1 = gt_img / 32767.0\n",
    "\n",
    "        # mae = compute_mae(pre_img1, gt_img1)\n",
    "        # mae_scores.append(mae * 32767)\n",
    "        mape = compute_mape(1-gt_img1, 1-pre_img1)\n",
    "        mae_scores.append(mape)\n",
    "\n",
    "        # if mae * 32767 < 110  : \n",
    "        if mode == \"low_mape\" and mape < 90 :\n",
    "            high_mae_gts.append(gt_img) \n",
    "            high_mae_pds.append(pre_img)\n",
    "            high_mae_conditions.append(np.load(os.path.join(condition_folder, filename), allow_pickle=True))\n",
    "            # high_mae.append(mae * 32767)\n",
    "            confidences.append(np.load(confidence_path, allow_pickle= True))\n",
    "            # confidences2.append(np.load(confidence_path2, allow_pickle= True))\n",
    "            high_mae.append(mape)\n",
    "        if mode == \"high_mape\" and mape > 1400: \n",
    "            high_mae_gts.append(gt_img) \n",
    "            high_mae_pds.append(pre_img)\n",
    "            high_mae_conditions.append(np.load(os.path.join(condition_folder, filename), allow_pickle=True))\n",
    "            # high_mae.append(mae * 32767)\n",
    "            confidences.append(np.load(confidence_path, allow_pickle= True))\n",
    "            # confidences2.append(np.load(confidence_path2, allow_pickle= True))\n",
    "            high_mae.append(mape)\n",
    "\n",
    "# Calculate the mean scores over all pairs\n",
    "# mean_ssim = np.mean(ssim_scores)\n",
    "# mean_psnr = np.mean(psnr_scores)\n",
    "mean_mae = np.mean(mae_scores)\n",
    "\n",
    "# Print the mean metrics\n",
    "# print(\"Mean SSIM: {}\".format(mean_ssim))\n",
    "# print(\"Mean PSNR: {}\".format(mean_psnr))\n",
    "print(\"Mean MAE: {}\".format(mean_mae))"
   ]
  },
  {
   "cell_type": "code",
   "execution_count": 16,
   "metadata": {},
   "outputs": [
    {
     "data": {
      "text/plain": [
       "(18, 18)"
      ]
     },
     "execution_count": 16,
     "metadata": {},
     "output_type": "execute_result"
    }
   ],
   "source": [
    "len(high_mae), len(high_mae_gts)"
   ]
  },
  {
   "cell_type": "code",
   "execution_count": 17,
   "metadata": {},
   "outputs": [
    {
     "data": {
      "text/plain": [
       "(1.0061641211809418, 1527.8648453965313)"
      ]
     },
     "execution_count": 17,
     "metadata": {},
     "output_type": "execute_result"
    }
   ],
   "source": [
    "np.min(mae_scores), np.max(mae_scores)"
   ]
  },
  {
   "cell_type": "code",
   "execution_count": 18,
   "metadata": {},
   "outputs": [],
   "source": [
    "import os\n",
    "def create_fol(dir_path): \n",
    "    if not os.path.exists(dir_path):\n",
    "        os.makedirs(dir_path)"
   ]
  },
  {
   "cell_type": "code",
   "execution_count": 19,
   "metadata": {},
   "outputs": [],
   "source": [
    "import matplotlib.pyplot as plt\n",
    "\n",
    "import os\n",
    "def visualize_high_mae_images(high_mae_gts, high_mae_pds, high_mae_conditions, confidence, save_folder):\n",
    "    for i in range(len(high_mae)):\n",
    "        mae = high_mae[i]\n",
    "\n",
    "        gt_img = high_mae_gts[i]\n",
    "        pre_img = high_mae_pds[i]\n",
    "        condition_img = high_mae_conditions[i]\n",
    "        confidence_img = confidences[i]\n",
    "        # confidence_img2 = confidences2[i]\n",
    "\n",
    "        plt.figure(figsize=(15, 5))\n",
    "\n",
    "        # Display the ground truth image\n",
    "        plt.subplot(1, 4, 1)\n",
    "        plt.imshow(gt_img, cmap='gray')\n",
    "        plt.title(\"Ground Truth\")\n",
    "        plt.axis('off')\n",
    "\n",
    "        # Display the predicted image\n",
    "        plt.subplot(1, 4, 2)\n",
    "        plt.imshow(pre_img, cmap='gray')\n",
    "        plt.title(\"Predicted\")\n",
    "        plt.axis('off')\n",
    "\n",
    "        # Display the condition image\n",
    "        plt.subplot(1, 4, 3)\n",
    "        plt.imshow(condition_img, cmap='gray')\n",
    "        plt.title(\"Condition\")\n",
    "        plt.axis('off')\n",
    "\n",
    "        plt.subplot(1, 4, 4)\n",
    "        plt.imshow(confidence_img, cmap='gray')\n",
    "        plt.title(\"Additional_map\")\n",
    "        plt.axis('off')\n",
    "\n",
    "        # plt.subplot(1, 5, 5)\n",
    "        # plt.imshow(confidence_img2, cmap='gray')\n",
    "        # plt.title(\"confidence_Unet2\")\n",
    "        # plt.axis('off')\n",
    "\n",
    "        plt.suptitle(f\"MAPE: {mae:.2f}\")\n",
    "\n",
    "        # Save the figure to the specified folder\n",
    "        save_path = os.path.join(save_folder, f\"mape_{mae:.2f}.png\")\n",
    "        plt.savefig(save_path)\n",
    "\n",
    "        plt.close()\n",
    "\n",
    "# Specify the folder to save the images\n",
    "save_folder = \"./results/visualization/\" + mode + \"/\" + dataset_name \n",
    "create_fol(save_folder)\n",
    "\n",
    "# Create the folder if it doesn't exist\n",
    "os.makedirs(save_folder, exist_ok=True)\n",
    "\n",
    "# Visualize and save images with high MAE\n",
    "visualize_high_mae_images(high_mae_gts, high_mae_pds, high_mae_conditions, confidences, save_folder)\n"
   ]
  },
  {
   "cell_type": "code",
   "execution_count": 8,
   "metadata": {},
   "outputs": [],
   "source": [
    "create_fol('./baddataset/train/A')\n",
    "create_fol('./baddataset/train/B')\n",
    "create_fol('./baddataset/val/A')\n",
    "create_fol('./baddataset/val/B')"
   ]
  },
  {
   "cell_type": "code",
   "execution_count": 16,
   "metadata": {},
   "outputs": [
    {
     "data": {
      "text/plain": [
       "<matplotlib.image.AxesImage at 0x7f16345c1fd0>"
      ]
     },
     "execution_count": 16,
     "metadata": {},
     "output_type": "execute_result"
    },
    {
     "data": {
      "image/png": "[encoded data removed]",
      "text/plain": [
       "<Figure size 640x480 with 1 Axes>"
      ]
     },
     "metadata": {},
     "output_type": "display_data"
    }
   ],
   "source": [
    "import shutil \n",
    "import os\n",
    "import numpy as np\n",
    "from skimage.metrics import structural_similarity as ssim\n",
    "from skimage.metrics import peak_signal_noise_ratio as psnr\n",
    "\n",
    "# Define the function to compute MAE\n",
    "def compute_mae(image1, image2):\n",
    "    return np.abs(image1 - image2).mean()\n",
    "\n",
    "# Paths to the folders\n",
    "gt_folder = \"/home/PET-CT/splited_data_15k/train/B\"\n",
    "condition_folder = \"/home/PET-CT/splited_data_15k/train/A\"\n",
    "# pre_folder = \"results/108_CT2PET_UncerBBDM3c/LBBDM-f4/sample_to_eval/200\"\n",
    "\n",
    "dataset_name = 'UncerBBDM_1Unet_confloss_15k_training_samples_top_model'\n",
    "\n",
    "pre_folder = \"/home/PET-CT/thaind/BBDM_folk/results/\" + dataset_name + \"/LBBDM-f4/sample_to_eval/200\"\n",
    "\n",
    "mae_scores = []\n",
    "high_mae, high_mae_gts, high_mae_pds, high_mae_conditions = [], [], [], []\n",
    "\n",
    "\n",
    "\n",
    "# Iterate through the files in the ground truth folder\n",
    "for filename in os.listdir(gt_folder):\n",
    "    # Make sure the file is a numpy array\n",
    "    if filename.endswith(\".npy\"):\n",
    "        # Construct the paths for the corresponding ground truth and predicted files\n",
    "        try:\n",
    "            gt_path = os.path.join(gt_folder, filename)\n",
    "            pre_path = os.path.join(pre_folder, filename)\n",
    "        \n",
    "            # Load the images as numpy arrays\n",
    "            gt_img = np.load(gt_path, allow_pickle=True)\n",
    "            pre_img = np.load(pre_path, allow_pickle=True)\n",
    "        except:\n",
    "            continue   \n",
    "        # Preprocess the predicted image\n",
    "        pre_img1 = pre_img.mean(axis=-1) / 32767.0\n",
    "        \n",
    "        # Normalize the ground truth image\n",
    "        gt_img1 = gt_img / 32767.0\n",
    "\n",
    "        mae = compute_mae(pre_img1, gt_img1)\n",
    "        mae_scores.append(mae * 32767)\n",
    "\n",
    "        if mae * 32767 > 1000  : \n",
    "            # shutil.copy(os.path.join(gt_folder, filename), os.path.join(bad_folder + '/B', filename) )\n",
    "            # shutil.copy(os.path.join(condition_folder, filename), os.path.join(bad_folder + '/A', filename) )\n",
    "            \n",
    "            high_mae_gts.append(gt_img) \n",
    "            high_mae_pds.append(pre_img)\n",
    "\n",
    "            high_mae_conditions.append(np.load(os.path.join(condition_folder, filename), allow_pickle=True))\n",
    "            high_mae.append(mae * 32767)\n",
    "\n",
    "# Calculate the mean scores over all pairs\n",
    "# mean_ssim = np.mean(ssim_scores)\n",
    "# mean_psnr = np.mean(psnr_scores)\n",
    "mean_mae = np.mean(mae_scores)\n",
    "\n",
    "# Print the mean metrics\n",
    "# print(\"Mean SSIM: {}\".format(mean_ssim))\n",
    "# print(\"Mean PSNR: {}\".format(mean_psnr))\n",
    "print(\"Mean MAE: {}\".format(mean_mae))"
   ]
  },
  {
   "cell_type": "code",
   "execution_count": 17,
   "metadata": {},
   "outputs": [],
   "source": [
    "import torch\n",
    "import torch.nn as nn\n",
    "import torch.nn.functional as F\n",
    "from torch.autograd import Variable\n",
    "\n",
    "class FocalLoss(nn.Module):\n",
    "    def __init__(self, gamma=0, alpha=None, size_average=True):\n",
    "        super(FocalLoss, self).__init__()\n",
    "        self.gamma = gamma\n",
    "        self.alpha = alpha\n",
    "        if isinstance(alpha,(float,int,long)): self.alpha = torch.Tensor([alpha,1-alpha])\n",
    "        if isinstance(alpha,list): self.alpha = torch.Tensor(alpha)\n",
    "        self.size_average = size_average\n",
    "\n",
    "    def forward(self, input, target):\n",
    "        if input.dim()>2:\n",
    "            input = input.view(input.size(0),input.size(1),-1)  # N,C,H,W => N,C,H*W\n",
    "            input = input.transpose(1,2)    # N,C,H*W => N,H*W,C\n",
    "            input = input.contiguous().view(-1,input.size(2))   # N,H*W,C => N*H*W,C\n",
    "        target = target.view(-1,1)\n",
    "\n",
    "        logpt = F.log_softmax(input)\n",
    "        logpt = logpt.gather(1,target)\n",
    "        logpt = logpt.view(-1)\n",
    "        pt = Variable(logpt.data.exp())\n",
    "\n",
    "        if self.alpha is not None:\n",
    "            if self.alpha.type()!=input.data.type():\n",
    "                self.alpha = self.alpha.type_as(input.data)\n",
    "            at = self.alpha.gather(0,target.data.view(-1))\n",
    "            logpt = logpt * Variable(at)\n",
    "\n",
    "        loss = -1 * (1-pt)**self.gamma * logpt\n",
    "        if self.size_average: return loss.mean()\n",
    "        else: return loss.sum()"
   ]
  },
  {
   "cell_type": "code",
   "execution_count": null,
   "metadata": {},
   "outputs": [],
   "source": [
    "    "
   ]
  }
 ],
 "metadata": {
  "kernelspec": {
   "display_name": "BBDM",
   "language": "python",
   "name": "python3"
  },
  "language_info": {
   "codemirror_mode": {
    "name": "ipython",
    "version": 3
   },
   "file_extension": ".py",
   "mimetype": "text/x-python",
   "name": "python",
   "nbconvert_exporter": "python",
   "pygments_lexer": "ipython3",
   "version": "3.9.16"
  }
 },
 "nbformat": 4,
 "nbformat_minor": 2
}
