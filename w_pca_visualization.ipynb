{
 "cells": [
  {
   "cell_type": "code",
   "execution_count": 1,
   "metadata": {},
   "outputs": [
    {
     "name": "stderr",
     "output_type": "stream",
     "text": [
      "/root/anaconda3/envs/BBDM/lib/python3.9/site-packages/tqdm/auto.py:21: TqdmWarning: IProgress not found. Please update jupyter and ipywidgets. See https://ipywidgets.readthedocs.io/en/stable/user_install.html\n",
      "  from .autonotebook import tqdm as notebook_tqdm\n"
     ]
    }
   ],
   "source": [
    "import torch\n",
    "import os \n",
    "from einops import rearrange\n",
    "from sklearn.decomposition import PCA\n",
    "from math import sqrt\n",
    "import numpy as np\n",
    "from torchvision import transforms as T\n",
    "from PIL import Image\n",
    "\n",
    "def visualize_and_save_features_pca(feature_maps_fit_data,feature_maps_transform_data, transform_experiments, t, save_dir, layer_features_type ):\n",
    "    feature_maps_fit_data = feature_maps_fit_data.cpu().numpy()\n",
    "    pca = PCA(n_components=3)\n",
    "    pca.fit(feature_maps_fit_data)\n",
    "    feature_maps_pca = pca.transform(feature_maps_transform_data.cpu().numpy())  # N X 3\n",
    "    feature_maps_pca = feature_maps_pca.reshape(len(transform_experiments), -1, 3)  # B x (H * W) x 3\n",
    "    for i, experiment in enumerate(transform_experiments):\n",
    "        pca_img = feature_maps_pca[i]  # (H * W) x 3\n",
    "        h = w = int(sqrt(pca_img.shape[0]))\n",
    "        pca_img = pca_img.reshape(h, w, 3)\n",
    "        pca_img_min = pca_img.min(axis=(0, 1))\n",
    "        pca_img_max = pca_img.max(axis=(0, 1))\n",
    "        pca_img = (pca_img - pca_img_min) / (pca_img_max - pca_img_min)\n",
    "        pca_img = Image.fromarray((pca_img * 255).astype(np.uint8))\n",
    "        pca_img = T.Resize(512, interpolation=T.InterpolationMode.NEAREST)(pca_img)\n",
    "        \n",
    "        os.makedirs(os.path.join(save_dir, experiment, block_type), exist_ok=True)\n",
    "        pca_img.save(os.path.join(save_dir, experiment, block_type ,f\"{layer_features_type}_{block_idx}__time_{t}.png\"))\n"
   ]
  },
  {
   "cell_type": "code",
   "execution_count": 14,
   "metadata": {},
   "outputs": [],
   "source": [
    "\n",
    "index = 14211\n",
    "root = 'features/CPDM/'  + str(index)  \n",
    "block_type = 'output_blocks'\n",
    "# block_idx = 4\n",
    "time_step = 504\n",
    "layer_features_type = 'in_layers_features'\n",
    "for idx in range(3,12): \n",
    "    try : \n",
    "        block_idx = idx\n",
    "        path = os.path.join(root, block_type, f'block_{block_idx}_{layer_features_type}_time_{time_step}.pt')\n",
    "        feature_map = torch.load(path)[0]\n",
    "        feature_map = feature_map.reshape(feature_map.shape[0], -1).t() \n",
    "        visualize_and_save_features_pca(feature_map, feature_map, [str(index)], time_step, '/home/PET-CT/tiennh/thesis/analysis/CPDM', layer_features_type)\n",
    "        \n",
    "    except :\n",
    "        print(f'Error with {block_idx} block')\n",
    "        continue"
   ]
  },
  {
   "cell_type": "code",
   "execution_count": 3,
   "metadata": {},
   "outputs": [],
   "source": [
    "# features/CPDM_reg_x0_notAttnu/14211/input_blocks/block_3_in_layers_features_1.pt\n",
    "# features/CPDM_reg_x0_notAttnu/14211/input_blocks/block_3_in_layers_features_1.pt"
   ]
  },
  {
   "cell_type": "code",
   "execution_count": 4,
   "metadata": {},
   "outputs": [],
   "source": []
  },
  {
   "cell_type": "code",
   "execution_count": null,
   "metadata": {},
   "outputs": [],
   "source": []
  },
  {
   "cell_type": "code",
   "execution_count": 9,
   "metadata": {},
   "outputs": [
    {
     "name": "stdout",
     "output_type": "stream",
     "text": [
      "init: 10\n",
      "inside: 30\n",
      "outside: 20\n"
     ]
    }
   ],
   "source": []
  },
  {
   "cell_type": "code",
   "execution_count": null,
   "metadata": {},
   "outputs": [],
   "source": []
  },
  {
   "cell_type": "code",
   "execution_count": 1,
   "metadata": {},
   "outputs": [
    {
     "ename": "NameError",
     "evalue": "name 'torch' is not defined",
     "output_type": "error",
     "traceback": [
      "\u001b[0;31m---------------------------------------------------------------------------\u001b[0m",
      "\u001b[0;31mNameError\u001b[0m                                 Traceback (most recent call last)",
      "Cell \u001b[0;32mIn[1], line 3\u001b[0m\n\u001b[1;32m      1\u001b[0m b \u001b[38;5;241m=\u001b[39m \u001b[38;5;241m3\u001b[39m\n\u001b[1;32m      2\u001b[0m h, w \u001b[38;5;241m=\u001b[39m \u001b[38;5;241m64\u001b[39m, \u001b[38;5;241m64\u001b[39m \n\u001b[0;32m----> 3\u001b[0m vectors \u001b[38;5;241m=\u001b[39m [torch\u001b[38;5;241m.\u001b[39marange(\u001b[38;5;241m0\u001b[39m, s) \u001b[38;5;28;01mfor\u001b[39;00m s \u001b[38;5;129;01min\u001b[39;00m (h, w)]\n",
      "Cell \u001b[0;32mIn[1], line 3\u001b[0m, in \u001b[0;36m<listcomp>\u001b[0;34m(.0)\u001b[0m\n\u001b[1;32m      1\u001b[0m b \u001b[38;5;241m=\u001b[39m \u001b[38;5;241m3\u001b[39m\n\u001b[1;32m      2\u001b[0m h, w \u001b[38;5;241m=\u001b[39m \u001b[38;5;241m64\u001b[39m, \u001b[38;5;241m64\u001b[39m \n\u001b[0;32m----> 3\u001b[0m vectors \u001b[38;5;241m=\u001b[39m [\u001b[43mtorch\u001b[49m\u001b[38;5;241m.\u001b[39marange(\u001b[38;5;241m0\u001b[39m, s) \u001b[38;5;28;01mfor\u001b[39;00m s \u001b[38;5;129;01min\u001b[39;00m (h, w)]\n",
      "\u001b[0;31mNameError\u001b[0m: name 'torch' is not defined"
     ]
    }
   ],
   "source": []
  },
  {
   "cell_type": "code",
   "execution_count": 63,
   "metadata": {},
   "outputs": [],
   "source": [
    "grids = torch.meshgrid(vectors)\n",
    "grid = torch.stack(grids).float() \n",
    "grid = grid.unsqueeze(0).repeat(b, 1, 1, 1)"
   ]
  },
  {
   "cell_type": "code",
   "execution_count": 66,
   "metadata": {},
   "outputs": [
    {
     "data": {
      "text/plain": [
       "tensor([[[ 0.,  0.,  0.,  ...,  0.,  0.,  0.],\n",
       "         [ 1.,  1.,  1.,  ...,  1.,  1.,  1.],\n",
       "         [ 2.,  2.,  2.,  ...,  2.,  2.,  2.],\n",
       "         ...,\n",
       "         [61., 61., 61.,  ..., 61., 61., 61.],\n",
       "         [62., 62., 62.,  ..., 62., 62., 62.],\n",
       "         [63., 63., 63.,  ..., 63., 63., 63.]],\n",
       "\n",
       "        [[ 0.,  1.,  2.,  ..., 61., 62., 63.],\n",
       "         [ 0.,  1.,  2.,  ..., 61., 62., 63.],\n",
       "         [ 0.,  1.,  2.,  ..., 61., 62., 63.],\n",
       "         ...,\n",
       "         [ 0.,  1.,  2.,  ..., 61., 62., 63.],\n",
       "         [ 0.,  1.,  2.,  ..., 61., 62., 63.],\n",
       "         [ 0.,  1.,  2.,  ..., 61., 62., 63.]]])"
      ]
     },
     "execution_count": 66,
     "metadata": {},
     "output_type": "execute_result"
    }
   ],
   "source": [
    "new_locs = grid + flow"
   ]
  },
  {
   "cell_type": "code",
   "execution_count": 37,
   "metadata": {},
   "outputs": [
    {
     "name": "stdout",
     "output_type": "stream",
     "text": [
      "2\n"
     ]
    }
   ],
   "source": [
    "def g(x):\n",
    "  x += 5\n",
    "x = 2\n",
    "g(x)\n",
    "print(x)"
   ]
  },
  {
   "cell_type": "code",
   "execution_count": 7,
   "metadata": {},
   "outputs": [
    {
     "name": "stdout",
     "output_type": "stream",
     "text": [
      "init: 10\n",
      "inside, a: 10\n",
      "outside: 10\n"
     ]
    }
   ],
   "source": [
    "class A: \n",
    "    def __init__(self, x):\n",
    "        self.x = x      \n",
    "a1 = A(10)\n",
    "\n",
    "def test(a):\n",
    "\n",
    "    '''\n",
    "        Bỏ comment 1 dòng và comment các dòng còn lại trong khối lệnh sau.\n",
    "        Chạy chương trình và xem kết quả.\n",
    "    '''\n",
    "    \n",
    "    ### Khối lệnh ###\n",
    "    \n",
    "    # a.x = 20 \n",
    "    # a = A(30) \n",
    "    a = 10 \n",
    "    ### Khối lệnh ###\n",
    "    \n",
    "    \n",
    "    try : \n",
    "        print('inside:', a.x)\n",
    "    except :\n",
    "        print('inside, a:', a)\n",
    "    # return x\n",
    "\n",
    "print('init:', a1.x)\n",
    "test(a1)\n",
    "print('outside:', a1.x)\n"
   ]
  },
  {
   "cell_type": "code",
   "execution_count": 4,
   "metadata": {},
   "outputs": [
    {
     "name": "stdout",
     "output_type": "stream",
     "text": [
      "init: [10, 1]\n",
      "inside:  [10, 1, 5]\n",
      "outside: [10, 1, 5]\n"
     ]
    }
   ],
   "source": [
    "x = [10, 1]\n",
    "\n",
    "def test(x:list):\n",
    "    '''\n",
    "        Bỏ comment 1 dòng và comment các dòng còn lại trong khối lệnh sau.\n",
    "        Chạy chương trình và xem kết quả.\n",
    "    '''\n",
    "    \n",
    "    ### Khối lệnh ###\n",
    "\n",
    "    # x = x + [5] \n",
    "    # x = [20, 2] \n",
    "    x.append(5)\n",
    "    \n",
    "    ### Khối lệnh ###\n",
    "    \n",
    "    \n",
    "    print('inside: ', x)\n",
    "    # return x\n",
    "\n",
    "print('init:', x)\n",
    "test(x)\n",
    "print('outside:', x)"
   ]
  },
  {
   "cell_type": "code",
   "execution_count": 32,
   "metadata": {},
   "outputs": [
    {
     "name": "stdout",
     "output_type": "stream",
     "text": [
      "3, 2, 1, 0, 0, 0, 0, 0, 0, 0, 0, 0, 0, 0, 0, 0, 0, 0, 0, 0, 0, 0, 0, 0, 0, 0, 0, 0, 0, 0, 0, 0, 0, 0, 0, 0, 0, 0, 0, 0, 0, 0, 0, 0, 0, 0, 0, 0, 0, 0, 0, 0, 0, 0, 0, 0, 0, 0, 0, 0, 0, 0, 0, 0, 0, 0, 0, 0, 0, 0, 0, 0, 0, 0, 0, 0, 0, 0, 0, 0, 0, 0, 0, 0, 0, 0, 0, 0, 0, 0, 0, 0, 0, 0, 0, 0, 0, 0, 0, 0, 0, 0, 0, 0, 0, 0, 0, 0, 0, 0, 0, 0, 0, 0, 0, 0, 0, 0, 0, 0, 0, 0, 0, 0, 0, 0, 0, 0, 0, 0, 0, 0, 0, 0, 0, 0, 0, 0, 0, 0, 0, 0, 0, 0, 0, 0, 0, 0, 0, 0, 0, 0, 0, 0, 0, 0, 0, 0, 0, 0, 0, 0, 0, 0, 0, 0, 0, 0, 0, 0, 0, 0, 0, 0, 0, 0, 0, 0, 0, 0, 0, 0, 0, 0, 0, 0, 0, 0, 0, 0, 0, 0, 0, 0, 0, 0, 0, 0, 0, 0, 0, 0, 0, 0, 0, 0, 0, 0, 0, 0, 0, 0, 0, 0, 0, 0, 0, 0, 0, 0, 0, 0, 0, 0, 0, 0, 0, 0, 0, 0, 0, 0, 0, 0, 0, 0, 0, 0, 0, 0, 0, 0, 0, 0, 0, 0, 0, 0, 0, 0, 0, 0, 0, 0, 0, 0, 0, 0, 0, 0, 0, 0, 0, 0, 0, 0, 0, 0, 0, 0, 0, 0, 0, 0, 0, 0, 0, 0, 0, 0, 0, 0, 0, 0, 0, 0, 0, 0, 0, 0, 0, 0, 0, 0, 0, 0, 0, 0, 0, 0, 0, 0, 0, 0, 0, 0, 0, 0, 0, 0, 0, 0, 0, 0, 0, 0, 0, 0, 0, 0, 0, 0, 0, 0, 0, 0"
     ]
    }
   ],
   "source": [
    "n = 123 \n",
    "m = n \n",
    "i = 0 \n",
    "while m > 0 : \n",
    "    i += 1\n",
    "    if (m / 10 == 0 ): print(int(m%10), end =\"\")\n",
    "    else: print(int(m%10), end =\", \")\n",
    "    m /= 10 "
   ]
  },
  {
   "cell_type": "code",
   "execution_count": 41,
   "metadata": {},
   "outputs": [
    {
     "ename": "IndexError",
     "evalue": "list index out of range",
     "output_type": "error",
     "traceback": [
      "\u001b[0;31m---------------------------------------------------------------------------\u001b[0m",
      "\u001b[0;31mIndexError\u001b[0m                                Traceback (most recent call last)",
      "Cell \u001b[0;32mIn[41], line 2\u001b[0m\n\u001b[1;32m      1\u001b[0m a\u001b[38;5;241m=\u001b[39m [\u001b[38;5;241m20\u001b[39m, \u001b[38;5;241m30\u001b[39m ]\n\u001b[0;32m----> 2\u001b[0m \u001b[43ma\u001b[49m\u001b[43m \u001b[49m\u001b[43m[\u001b[49m\u001b[38;5;241;43m-\u001b[39;49m\u001b[38;5;241;43m3\u001b[39;49m\u001b[43m]\u001b[49m\n",
      "\u001b[0;31mIndexError\u001b[0m: list index out of range"
     ]
    }
   ],
   "source": [
    "a= [20, 30 ]\n",
    "a [-3]"
   ]
  },
  {
   "cell_type": "code",
   "execution_count": 34,
   "metadata": {},
   "outputs": [
    {
     "data": {
      "text/plain": [
       "12.3"
      ]
     },
     "execution_count": 34,
     "metadata": {},
     "output_type": "execute_result"
    }
   ],
   "source": [
    "m = 123 \n",
    "n = 10 \n",
    "m/n"
   ]
  },
  {
   "cell_type": "code",
   "execution_count": 36,
   "metadata": {},
   "outputs": [
    {
     "name": "stdout",
     "output_type": "stream",
     "text": [
      "27\n",
      "27\n"
     ]
    }
   ],
   "source": [
    "x = 27\n",
    "def f():\n",
    "  print(x)\n",
    "f()\n",
    "print(x)"
   ]
  },
  {
   "cell_type": "code",
   "execution_count": null,
   "metadata": {},
   "outputs": [],
   "source": []
  }
 ],
 "metadata": {
  "kernelspec": {
   "display_name": "BBDM",
   "language": "python",
   "name": "python3"
  },
  "language_info": {
   "codemirror_mode": {
    "name": "ipython",
    "version": 3
   },
   "file_extension": ".py",
   "mimetype": "text/x-python",
   "name": "python",
   "nbconvert_exporter": "python",
   "pygments_lexer": "ipython3",
   "version": "3.9.16"
  }
 },
 "nbformat": 4,
 "nbformat_minor": 2
}
